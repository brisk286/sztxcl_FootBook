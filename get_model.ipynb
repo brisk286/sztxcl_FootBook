{
 "cells": [
  {
   "cell_type": "code",
   "execution_count": 3,
   "id": "retained-craps",
   "metadata": {
    "ExecuteTime": {
     "end_time": "2022-05-26T03:44:54.569928Z",
     "start_time": "2022-05-26T03:44:54.551976Z"
    }
   },
   "outputs": [
    {
     "name": "stderr",
     "output_type": "stream",
     "text": [
      "Using TensorFlow backend.\n"
     ]
    }
   ],
   "source": [
    "import os\n",
    "os.environ['TF_XLA_FLAGS'] = '--tf_xla_enable_xla_devices'\n",
    "\n",
    "import numpy as np\n",
    "import pandas as pd\n",
    "import cv2\n",
    "from keras.utils import np_utils\n",
    "from keras.datasets import mnist\n",
    "import matplotlib.pyplot as plt\n",
    "import keras\n",
    "from keras.datasets import mnist\n",
    "from keras.models import Sequential\n",
    "from keras.layers import Dense, Dropout\n",
    "from keras.optimizers import RMSprop\n",
    "import matplotlib.pyplot as plt\n",
    "from keras.models import Sequential  \n",
    "from keras.layers import Conv2D, MaxPool2D\n",
    "from keras.layers import Flatten"
   ]
  },
  {
   "cell_type": "code",
   "execution_count": 4,
   "id": "skilled-genealogy",
   "metadata": {
    "ExecuteTime": {
     "end_time": "2022-05-26T03:44:54.630081Z",
     "start_time": "2022-05-26T03:44:54.615926Z"
    }
   },
   "outputs": [],
   "source": [
    "# 填写lable.csv文件的路径\n",
    "labelPath = r\"data/data\"\n",
    "\n",
    "# 填写训练集、测试集文件夹的路径\n",
    "trainPath = r\"data/train\"\n",
    "testPath = r\"data/test\""
   ]
  },
  {
   "cell_type": "code",
   "execution_count": 5,
   "id": "deadly-triumph",
   "metadata": {
    "ExecuteTime": {
     "end_time": "2022-05-26T03:44:54.645916Z",
     "start_time": "2022-05-26T03:44:54.630925Z"
    }
   },
   "outputs": [],
   "source": [
    "def resizedFile(path):\n",
    "    files = os.listdir(path)\n",
    "    resized = []\n",
    "\n",
    "    for i, file in enumerate(files):\n",
    "#         linux系统注意修改/\n",
    "        image = cv2.imread(path + \"\\\\\" + file)\n",
    "        gray = cv2.cvtColor(image, cv2.COLOR_BGR2GRAY)\n",
    "        resized.append(gray)\n",
    "\n",
    "    resized = np.vstack(resized)\n",
    "    resized.resize((len(files), 28, 28))\n",
    "    \n",
    "    return resized\n",
    "\n",
    "x_train_image = resizedFile(trainPath)\n",
    "x_test_image = resizedFile(testPath)\n",
    "\n",
    "def get_label(path, allLabel):\n",
    "    \n",
    "    files = os.listdir(path)\n",
    "    df = pd.read_csv(allLabel)\n",
    "\n",
    "    label = np.array([])\n",
    "\n",
    "    names = df['name'].values\n",
    "    labels = df['label'].values\n",
    "\n",
    "    for file in files:\n",
    "        for i, each in enumerate(names):\n",
    "            if file == each or file.replace(\"_90\", \"\") == each or file.replace(\"_180\", \"\") == each or file.replace(\"_270\", \"\") == each :\n",
    "                label = np.append(label, labels[i])\n",
    "\n",
    "    print(label.shape)\n",
    "    return label\n",
    "\n",
    "y_train_label = get_label(trainPath, labelPath)\n",
    "y_test_label = get_label(testPath, labelPath)\n",
    "\n",
    "print(y_train_label.shape)\n",
    "print(y_test_label.shape)"
   ]
  },
  {
   "cell_type": "code",
   "execution_count": 77,
   "id": "conditional-black",
   "metadata": {},
   "outputs": [
    {
     "name": "stdout",
     "output_type": "stream",
     "text": [
      "Downloading data from https://s3.amazonaws.com/img-datasets/mnist.npz\n",
      "11493376/11490434 [==============================] - 179s 16us/step\n"
     ]
    }
   ],
   "source": [
    "# # 使用mnist测试是否能运行\n",
    "# (x_train_image, y_train_label), (x_test_image, y_test_label) = mnist.load_data()  # 下载读取mnist数据"
   ]
  },
  {
   "cell_type": "code",
   "execution_count": 79,
   "id": "mounted-survivor",
   "metadata": {
    "ExecuteTime": {
     "end_time": "2022-05-26T03:44:56.094714Z",
     "start_time": "2022-05-26T03:44:55.365891Z"
    }
   },
   "outputs": [
    {
     "data": {
      "image/png": "[encoded data removed]",
      "text/plain": [
       "<Figure size 864x1008 with 10 Axes>"
      ]
     },
     "metadata": {},
     "output_type": "display_data"
    },
    {
     "data": {
      "image/png": "[encoded data removed]",
      "text/plain": [
       "<Figure size 864x1008 with 10 Axes>"
      ]
     },
     "metadata": {},
     "output_type": "display_data"
    }
   ],
   "source": [
    "\n",
    "def plot_image(image):\n",
    "    fig = plt.gcf()\n",
    "    fig.set_size_inches(2, 2)\n",
    "    plt.imshow(image, cmap='binary')\n",
    "    plt.show()\n",
    "\n",
    "\n",
    "y_train_label[0]\n",
    "\n",
    "\n",
    "def plot_image_labels_prediction(image, lables, prediction, idx, num=10):\n",
    "    fig = plt.gcf()\n",
    "    fig.set_size_inches(12, 14)\n",
    "    if num > 25: num = 25\n",
    "    for i in range(0, num):\n",
    "        ax = plt.subplot(5, 5, i + 1)\n",
    "        ax.imshow(image[idx], cmap='binary')\n",
    "        title = \"lable=\" + str(lables[idx])\n",
    "        if len(prediction) > 0:\n",
    "            title += \",predict=\" + str(prediction[idx])\n",
    "        ax.set_title(title, fontsize=10)\n",
    "        ax.set_xticks([]);\n",
    "        ax.set_yticks([])\n",
    "        idx += 1\n",
    "    plt.show()\n",
    "\n",
    "\n",
    "plot_image_labels_prediction(x_train_image, y_train_label, [], 0, 10)\n",
    "plot_image_labels_prediction(x_test_image, y_test_label, [], 0, 10)\n",
    "\n",
    "\n",
    "x_Train = x_train_image.reshape(-1, 28, 28, 1).astype('float32')  \n",
    "x_Test = x_test_image.reshape(-1, 28, 28, 1).astype('float32')\n",
    "\n",
    "x_Train_normalize = x_Train / 255  \n",
    "x_Test_normalize = x_Test / 255\n",
    "\n",
    "y_Train_OneHot = np_utils.to_categorical(y_train_label)  \n",
    "y_Test_OneHot = np_utils.to_categorical(y_test_label)\n"
   ]
  },
  {
   "cell_type": "code",
   "execution_count": 81,
   "id": "rapid-magazine",
   "metadata": {
    "ExecuteTime": {
     "end_time": "2022-05-26T07:35:25.528271Z",
     "start_time": "2022-05-26T07:35:25.421507Z"
    }
   },
   "outputs": [],
   "source": [
    "\n",
    "# 2.建立模型\n",
    "\n",
    "model = Sequential()\n",
    "model.add(Conv2D(filters= 32, kernel_size=(5,5), padding='Same', activation='relu',input_shape=(28,28,1)))\n",
    "model.add(Conv2D(filters= 32, kernel_size=(5,5), padding='Same', activation='relu'))\n",
    "model.add(MaxPool2D(pool_size=(4,4)))\n",
    "model.add(Dropout(0.5))  \n",
    "model.add(Conv2D(filters= 64, kernel_size=(2,2), padding='Same', activation='relu'))\n",
    "model.add(Conv2D(filters= 64, kernel_size=(2,2), padding='Same', activation='relu'))\n",
    "model.add(MaxPool2D(pool_size=(2,2), strides=(2,2)))\n",
    "model.add(Dropout(0.5))\n",
    "\n",
    "model.add(Flatten())\n",
    "\n",
    "model.add(Dense(256, activation='relu'))   \n",
    "model.add(Dropout(0.25))\n",
    "model.add(Dense(128, activation='relu'))    \n",
    "model.add(Dropout(0.25))\n",
    "model.add(Dense(64, activation='relu'))    \n",
    "model.add(Dropout(0.25))\n",
    "model.add(Dense(10, activation='softmax'))  \n",
    "\n",
    "print(model.summary())"
   ]
  },
  {
   "cell_type": "code",
   "execution_count": 83,
   "id": "yellow-crisis",
   "metadata": {
    "ExecuteTime": {
     "end_time": "2022-05-26T07:38:11.743531Z",
     "start_time": "2022-05-26T07:35:26.955515Z"
    }
   },
   "outputs": [
    {
     "name": "stdout",
     "output_type": "stream",
     "text": [
      "Train on 48000 samples, validate on 12000 samples\n",
      "Epoch 1/10\n",
      " - 5s - loss: 0.0845 - accuracy: 0.9759 - val_loss: 0.0408 - val_accuracy: 0.9888\n",
      "Epoch 2/10\n",
      " - 5s - loss: 0.0798 - accuracy: 0.9778 - val_loss: 0.0358 - val_accuracy: 0.9908\n",
      "Epoch 3/10\n",
      " - 5s - loss: 0.0778 - accuracy: 0.9778 - val_loss: 0.0328 - val_accuracy: 0.9917\n",
      "Epoch 4/10\n",
      " - 5s - loss: 0.0728 - accuracy: 0.9794 - val_loss: 0.0344 - val_accuracy: 0.9907\n",
      "Epoch 5/10\n",
      " - 5s - loss: 0.0673 - accuracy: 0.9802 - val_loss: 0.0353 - val_accuracy: 0.9913\n",
      "Epoch 6/10\n",
      " - 5s - loss: 0.0686 - accuracy: 0.9802 - val_loss: 0.0363 - val_accuracy: 0.9898\n",
      "Epoch 7/10\n",
      " - 5s - loss: 0.0669 - accuracy: 0.9810 - val_loss: 0.0324 - val_accuracy: 0.9910\n",
      "Epoch 8/10\n",
      " - 5s - loss: 0.0673 - accuracy: 0.9810 - val_loss: 0.0295 - val_accuracy: 0.9918\n",
      "Epoch 9/10\n",
      " - 5s - loss: 0.0617 - accuracy: 0.9823 - val_loss: 0.0315 - val_accuracy: 0.9918\n",
      "Epoch 10/10\n",
      " - 5s - loss: 0.0589 - accuracy: 0.9832 - val_loss: 0.0318 - val_accuracy: 0.9908\n"
     ]
    },
    {
     "data": {
      "image/png": "[encoded data removed]",
      "text/plain": [
       "<Figure size 432x288 with 1 Axes>"
      ]
     },
     "metadata": {
      "needs_background": "light"
     },
     "output_type": "display_data"
    },
    {
     "name": "stdout",
     "output_type": "stream",
     "text": [
      "10000/10000 [==============================] - 2s 169us/step\n",
      "\n",
      "accuracy 0.9929999709129333\n"
     ]
    },
    {
     "data": {
      "image/png": "[encoded data removed]",
      "text/plain": [
       "<Figure size 864x1008 with 10 Axes>"
      ]
     },
     "metadata": {},
     "output_type": "display_data"
    }
   ],
   "source": [
    "model.compile(loss='categorical_crossentropy',\n",
    "              optimizer='adam', metrics=['accuracy'])\n",
    "\n",
    "train_history = model.fit(x=x_Train_normalize,\n",
    "                          y=y_Train_OneHot, validation_split=0.2,\n",
    "                          epochs=10, batch_size=128, verbose=2)\n",
    "\n",
    "\n",
    "import matplotlib.pyplot as plt\n",
    "\n",
    "\n",
    "def show_train_history(train_history, train, validation):\n",
    "    plt.plot(train_history.history[train])\n",
    "    plt.plot(train_history.history[validation])\n",
    "    plt.title('Train History')\n",
    "    plt.ylabel(train)\n",
    "    plt.xlabel('Epoch')\n",
    "    plt.legend(['train', 'validation'], loc='upper left')\n",
    "    plt.show()\n",
    "\n",
    "show_train_history(train_history, 'accuracy', 'val_accuracy') \n",
    "show_train_history(train_history, 'loss', 'val_loss') \n",
    "\n",
    "scores = model.evaluate(x_Test_normalize, y_Test_OneHot) \n",
    "print()\n",
    "print('accuracy', scores[1])\n",
    "\n",
    "prediction = model.predict_classes(x_Test)\n",
    "prediction\n",
    "plot_image_labels_prediction(x_test_image, y_test_label, prediction, idx=22)\n"
   ]
  },
  {
   "cell_type": "code",
   "execution_count": null,
   "id": "rising-neutral",
   "metadata": {},
   "outputs": [],
   "source": []
  },
  {
   "cell_type": "code",
   "execution_count": null,
   "id": "reported-chuck",
   "metadata": {},
   "outputs": [],
   "source": []
  }
 ],
 "metadata": {
  "kernelspec": {
   "display_name": "Python 3 (ipykernel)",
   "language": "python",
   "name": "python3"
  },
  "language_info": {
   "codemirror_mode": {
    "name": "ipython",
    "version": 3
   },
   "file_extension": ".py",
   "mimetype": "text/x-python",
   "name": "python",
   "nbconvert_exporter": "python",
   "pygments_lexer": "ipython3",
   "version": "3.7.13"
  },
  "toc": {
   "base_numbering": 1,
   "nav_menu": {},
   "number_sections": true,
   "sideBar": true,
   "skip_h1_title": false,
   "title_cell": "Table of Contents",
   "title_sidebar": "Contents",
   "toc_cell": false,
   "toc_position": {},
   "toc_section_display": true,
   "toc_window_display": false
  },
  "varInspector": {
   "cols": {
    "lenName": 16,
    "lenType": 16,
    "lenVar": 40
   },
   "kernels_config": {
    "python": {
     "delete_cmd_postfix": "",
     "delete_cmd_prefix": "del ",
     "library": "var_list.py",
     "varRefreshCmd": "print(var_dic_list())"
    },
    "r": {
     "delete_cmd_postfix": ") ",
     "delete_cmd_prefix": "rm(",
     "library": "var_list.r",
     "varRefreshCmd": "cat(var_dic_list()) "
    }
   },
   "types_to_exclude": [
    "module",
    "function",
    "builtin_function_or_method",
    "instance",
    "_Feature"
   ],
   "window_display": false
  }
 },
 "nbformat": 4,
 "nbformat_minor": 5
}
